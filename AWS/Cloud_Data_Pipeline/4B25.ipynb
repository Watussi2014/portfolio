{
 "cells": [
  {
   "cell_type": "markdown",
   "id": "cef9b5e1-da2f-4afe-81b1-9abb762c7785",
   "metadata": {},
   "source": [
    "## About this Part\n\nCongratulations! You've reached the final Part of this Sprint, where you'll apply your newfound knowledge of IaC and CI/CD to build an improved data pipeline in the cloud.\n\nSprint projects often require the integration of skills, tools, and techniques not explicitly covered during the Sprint. This is intentional, as true expertise comes from the ability to recognize the skills needed to solve a given problem and acquire them as necessary.\n\nRemember, perfection isn't expected at this stage. Focus on leveraging what you've learned and give it your best effort.\n\n---\n\n**Disclaimer: Important Note Regarding Costs**\n\nTo ensure you do not incur personal expenses during this project, it is strongly recommended that you use only the free-tier services outlined in the [AWS Free Tier](https://aws.amazon.com/free). The AWS Free Tier provides a limited amount of services at no cost for 12 months after you sign up for an AWS account.\n\nBe aware of the services that fall within the free tier limits, and monitor your usage to avoid any charges beyond the free tier limits. It is your responsibility to manage your AWS resources effectively within the free tier to prevent any unexpected charges.\n\n---\n\n## Context\n\nDuring this project, you will step back into the shoes of a Data Engineer at AdventureWorks — a respectable retail business. Your last presentation went well; CTO found your PoC convincing, at the end of the meeting you were asked if you will be able to replicate your solution in a production environment to which you replied \"yes.\" However, after leaving the room, you realized that you actually don't fully remember all the configuration steps you've done in AWS cloud and replicating the solution in a different environment might be more complicated than initially thought.\n\nA task for you is to write the necessary Terraform code, which could deploy all the resources needed to run a Cloud data pipeline you've made before (EC2, storage, RDS). Doing it this way will ensure that you will always know exactly how your infrastructure was built and allow you to easily deploy it to multiple environments like development, test and production.\n\nDuring your previous task, you've also realized how tedious and time-consuming deployments can be and how easy it is to forget the commands needed to do it. This time you have also decided to implement GitHub Actions to take care of the deployments. In the end, all that you will need to do to deploy is simply to push code into a master branch of your repository.\n\n## Objectives for this Part\n\n- Practice setting up Terraform;\n- Practice writing and applying Terraform code to deploy desired resources to AWS cloud;\n- Practice setting-up and writing GitHub Actions;\n- Practice running Terraform apply from GitHub actions.\n\n## Requirements\n\n- Your solution should encompass the functionality outlined in the Context section;\n- You must use free-tier compliant services in your Terraform code to not incur any financial cost;\n- Your Terraform configuration should store its state (.tfstate file) in the S3 file storage in AWS cloud;\n- Your Terraform code should be run from GitHub Actions after each commit to the master branch;\n- Secret variables like AWS credentials should be stored in GitHub Secrets and not hardcoded in your GitHub actions;\n- You should start from a blank AWS account and build all services from scratch using Terraform.\n\n## Bonus\n\n- Implement AWS Code Deploy for Green/Red deployments;\n- Implement AWS Secrets Manager instead of GitHub Secrets;\n\n## Evaluation Criteria\n\n- Adherence to the requirements. How well did you meet the requirements?\n- Code quality. How structured and clean is your Terraform code and GitHub actions code.\n- Code performance. How well does the IaC and CI/CD pipeline perform.\n- General understanding of the topic. How well does do you understanding the concept of IaC and CI/CD.\n- Presentation quality. How comprehensively can you explain your solution, both technically and conceptually?\n\n## Project Review\n\nDuring your project review, present your solution as if you are showcasing it to the CTO of your company. Assume they have decent AWS skills and may question your choices. Expect questions like:\n- How did you ensure that the Terraform code you wrote is modular and reusable for future projects or environments?\n- Describe the security practices you implemented in your infrastructure setup. How did you manage access control and data protection?\n- Can you explain the process and importance of storing the Terraform state file in AWS S3?\n- If you encountered any limitations with AWS's free tier during your project, how did you address these challenges without incurring additional costs?\n\nRemember, these questions aim to evaluate your understanding and decision-making process regarding broader cloud concepts and cloud object storage in the context of your project. They provide an opportunity to showcase your comprehensive knowledge of AWS services and your ability to address various aspects of cloud-based solutions."
   ]
  },
  {
   "cell_type": "markdown",
   "id": "1fcf0e01-2a0e-46bd-8bec-271999d54f89",
   "metadata": {},
   "source": [
    "## General Project Review Guidelines\n\nFor an in-depth explanation about how project reviews work at Turing College, please read [this doc](https://turingcollege.atlassian.net/wiki/spaces/DLG/pages/537395951/Peer+expert+reviews+corrections).\n"
   ]
  }
 ],
 "metadata": {
  "kernelspec": {
   "display_name": "Python 3",
   "language": "python",
   "name": "python3"
  },
  "language_info": {
   "codemirror_mode": {
    "name": "ipython",
    "version": 3
   },
   "file_extension": ".py",
   "mimetype": "text/x-python",
   "name": "python",
   "nbconvert_exporter": "python",
   "pygments_lexer": "ipython3",
   "version": "3.9.5"
  }
 },
 "nbformat": 4,
 "nbformat_minor": 5
}
