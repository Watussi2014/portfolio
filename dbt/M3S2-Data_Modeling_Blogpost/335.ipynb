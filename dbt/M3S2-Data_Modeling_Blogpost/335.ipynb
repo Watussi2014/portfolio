{
 "cells": [
  {
   "cell_type": "markdown",
   "id": "23571855-4956-413c-8a2f-1db21e314248",
   "metadata": {},
   "source": [
    "## About this Part\n\nCongratulations! You've reached the final Part of this Sprint.\nThis Part serves as an integrative experience, allowing you to apply the knowledge and skills acquired in this and previous Sprints.\n\nAs the culmination of this Sprint, you'll write a blog post on a data engineering topic of your choice.\n\nThis Sprint project is different from the ones that you've worked on previously - as this Sprint was focused exclusively on the theoretical aspects of data engineering, so the Sprint project is not **solely** about writing code.\nBut you will still need to provide code examples and architectural diagrams to support the arguments in your blog post.\n\nRemember, perfection isn't expected at this stage.\nYou will continuously hone your skills and have ample opportunities to apply them in future projects.\nFor now, focus on leveraging what you've learned and giving it your best effort!\n\n*Note:* [advice on building your portfolio](https://turingcollege.atlassian.net/wiki/spaces/DLG/pages/1002307695/Portfolio+Items)\n\n## Objectives for this Part\n\n- The dimensional data modeling is compared to the Data Mesh.\n- Explained how different roles play in the Data Mesh.\n- Explained how the data is ingested and how it is transformed.\n\n## Requirements\n\n- Topic selection: choose a topic that was covered in this sprint, e.g. data mesh, dimensional data modeling, etc.\n- Content: support your points with technical diagrams, code examples, and explanations.\n- Publishing: publish your blog post either on your personal website or a blogging platform (e.g. Medium, Substack, Dev.to, etc.).\n- Audience: craft your content specifically for a data engineering audience.\n- Language: follow English style and grammar rules.\n- Word count: the post should be between 1000 and 5000 words long.\n- Sharing: share your blog post on LinkedIn (after the final project review).\n\n## Evaluation Criteria\n\n- Adherence to the requirements. How well did you meet the requirements?\n- Code quality. Were your code snippets clear? Did they explain the concepts clearly?\n- Language. Was your content well-written? Did you follow the English style and grammar rules?\n- Presentation quality. How comprehensive is your presentation, and how well are you able to explain your solution to the target audience?\n- Conceptual understanding. How well do you know the concepts covered in this and previous Sprints?\n\n## Project Review\n\nDuring your project review, you should present it as if talking to a potential employer for whom you are showcasing your blog post.  \nYou can assume that they will have decent software and data engineering skills - they will understand technical jargon and are expected to notice and question things that could have been done better or ask about the choices you've made.\n\nDuring the presentation, you might be asked questions to test your understanding of the covered topics, such as:\n\n- What is Data Mesh?\n- What key principles define and guide the implementation of a Data Mesh strategy?\n- What technologies, tools, or platforms are typically used or recommended to implement and manage a Data Mesh?\n- What are some criticisms and challenges that organizations might face when adopting a Data Mesh approach?\n- How does dimensional modeling influence the design and functionality of a data warehouse?\n- How does dimensional data modeling deal with historical data and enable the tracking of changes over time?\n"
   ]
  },
  {
   "cell_type": "markdown",
   "id": "19a235e3-e342-4632-ae0d-3bd141d5b58d",
   "metadata": {},
   "source": [
    "## General Project Review Guidelines\n\nFor an in-depth explanation about how project reviews work at Turing College, please read [this doc](https://turingcollege.atlassian.net/wiki/spaces/DLG/pages/537395951/Peer+expert+reviews+corrections).\n"
   ]
  }
 ],
 "metadata": {
  "kernelspec": {
   "display_name": "Python 3",
   "language": "python",
   "name": "python3"
  },
  "language_info": {
   "codemirror_mode": {
    "name": "ipython",
    "version": 3
   },
   "file_extension": ".py",
   "mimetype": "text/x-python",
   "name": "python",
   "nbconvert_exporter": "python",
   "pygments_lexer": "ipython3",
   "version": "3.9.5"
  }
 },
 "nbformat": 4,
 "nbformat_minor": 5
}
