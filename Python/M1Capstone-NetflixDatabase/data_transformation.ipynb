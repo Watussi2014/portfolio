{
 "cells": [
  {
   "cell_type": "markdown",
   "metadata": {},
   "source": [
    "# 1. Importing the data\n",
    "First, I'll import the libraries needed for the transformation"
   ]
  },
  {
   "cell_type": "code",
   "execution_count": 77,
   "metadata": {},
   "outputs": [],
   "source": [
    "import pandas as pd \n",
    "from ast import literal_eval\n",
    "import os"
   ]
  },
  {
   "cell_type": "markdown",
   "metadata": {},
   "source": [
    "Then I'll import the csv files into a pandas dataframe"
   ]
  },
  {
   "cell_type": "code",
   "execution_count": 78,
   "metadata": {},
   "outputs": [
    {
     "name": "stdout",
     "output_type": "stream",
     "text": [
      "   index                         TITLE  RELEASE_YEAR  SCORE  \\\n",
      "0      0  Monty Python's Flying Circus          1969    8.8   \n",
      "1      1                  Knight Rider          1982    6.9   \n",
      "2      2                      Seinfeld          1989    8.9   \n",
      "3      3    Star Trek: Deep Space Nine          1993    8.1   \n",
      "4      4       Neon Genesis Evangelion          1995    8.5   \n",
      "\n",
      "   NUMBER_OF_SEASONS MAIN_GENRE MAIN_PRODUCTION  \n",
      "0                  4     comedy              GB  \n",
      "1                  4     action              US  \n",
      "2                  9     comedy              US  \n",
      "3                  7      scifi              US  \n",
      "4                  1      scifi              JP  \n"
     ]
    }
   ],
   "source": [
    "PATH = os.path.join('data')\n",
    "\n",
    "raw_titles_df = pd.read_csv(os.path.join(PATH, 'raw_titles.csv'))\n",
    "raw_credits_df = pd.read_csv(os.path.join(PATH, 'raw_credits.csv'))\n",
    "best_movies_df = pd.read_csv(os.path.join(PATH, 'Best Movies Netflix.csv'))\n",
    "best_movie_years_df = pd.read_csv(os.path.join(PATH, 'Best Movie by Year Netflix.csv'))\n",
    "best_shows_df = pd.read_csv(os.path.join(PATH, 'Best Shows Netflix.csv'))\n",
    "best_show_years_df = pd.read_csv(os.path.join(PATH, 'Best Show by Year Netflix.csv'))\n",
    "print (best_show_years_df.head())"
   ]
  },
  {
   "cell_type": "markdown",
   "metadata": {},
   "source": [
    "# 2. Transforming the data\n",
    "Now I'll check every columns to see if there is anything wrong with the data."
   ]
  },
  {
   "cell_type": "code",
   "execution_count": 79,
   "metadata": {},
   "outputs": [],
   "source": [
    "cleaned_df = [] # Creating a list where I'll put the cleaned data."
   ]
  },
  {
   "cell_type": "markdown",
   "metadata": {},
   "source": [
    "## 2.1 Raw titles dataframe"
   ]
  },
  {
   "cell_type": "code",
   "execution_count": 80,
   "metadata": {},
   "outputs": [
    {
     "name": "stdout",
     "output_type": "stream",
     "text": [
      "0    ts300399\n",
      "1     tm84618\n",
      "2    tm127384\n",
      "3     tm70993\n",
      "4    tm190788\n",
      "5     ts22164\n",
      "6     tm14873\n",
      "7    tm185072\n",
      "8     tm98978\n",
      "9    tm119281\n",
      "Name: id, dtype: object\n",
      "True\n"
     ]
    }
   ],
   "source": [
    "print(raw_titles_df['id'].head(10))\n",
    "print(raw_titles_df['id'].is_unique)"
   ]
  },
  {
   "cell_type": "markdown",
   "metadata": {},
   "source": [
    "We can see that the id column doesn't contains duplicates.   \n",
    "We also see that the id column is a mix of characters and number and thus should stay as a string type.\n"
   ]
  },
  {
   "cell_type": "code",
   "execution_count": 81,
   "metadata": {},
   "outputs": [
    {
     "name": "stdout",
     "output_type": "stream",
     "text": [
      "False\n",
      "0    Five Came Back: The Reference Films\n",
      "1                            Taxi Driver\n",
      "2        Monty Python and the Holy Grail\n",
      "3                          Life of Brian\n",
      "4                           The Exorcist\n",
      "Name: title, dtype: object\n"
     ]
    }
   ],
   "source": [
    "print(raw_titles_df['title'].is_unique)\n",
    "print(raw_titles_df['title'].head())"
   ]
  },
  {
   "cell_type": "code",
   "execution_count": 82,
   "metadata": {},
   "outputs": [
    {
     "name": "stdout",
     "output_type": "stream",
     "text": [
      "      index        id                      title   type  release_year  \\\n",
      "657     657   ts19384        A Lion in the House   SHOW          2006   \n",
      "519     519   tm25842        A Lion in the House  MOVIE          2006   \n",
      "54       54    tm2386  A Nightmare on Elm Street  MOVIE          1984   \n",
      "355     355  tm102337  A Nightmare on Elm Street  MOVIE          2010   \n",
      "1731   1731  tm232710            A Second Chance  MOVIE          2015   \n",
      "...     ...       ...                        ...    ...           ...   \n",
      "38       38  tm259684                   Whispers  MOVIE          1980   \n",
      "2258   2258  tm365824                       Zero  MOVIE          2018   \n",
      "5441   5441  ts282155                       Zero   SHOW          2021   \n",
      "1332   1332   ts35354                        Zoo   SHOW          2015   \n",
      "2708   2708  tm355941                        Zoo  MOVIE          2018   \n",
      "\n",
      "     age_certification  runtime  \\\n",
      "657              TV-14      225   \n",
      "519                NaN      225   \n",
      "54                   R       91   \n",
      "355                  R       95   \n",
      "1731               NaN      130   \n",
      "...                ...      ...   \n",
      "38                 NaN       93   \n",
      "2258               NaN      152   \n",
      "5441             TV-MA       24   \n",
      "1332             TV-14       43   \n",
      "2708               NaN      100   \n",
      "\n",
      "                                                 genres production_countries  \\\n",
      "657                                   ['documentation']               ['US']   \n",
      "519                                   ['documentation']               ['US']   \n",
      "54                                           ['horror']               ['US']   \n",
      "355            ['horror', 'thriller', 'crime', 'drama']               ['US']   \n",
      "1731  ['romance', 'drama', 'family', 'sport', 'docum...               ['PH']   \n",
      "...                                                 ...                  ...   \n",
      "38                                    ['documentation']   ['FR', 'LB', 'CA']   \n",
      "2258  ['comedy', 'drama', 'scifi', 'romance', 'thril...               ['IN']   \n",
      "5441  ['scifi', 'action', 'comedy', 'drama', 'fantasy']               ['IT']   \n",
      "1332                     ['drama', 'thriller', 'scifi']               ['US']   \n",
      "2708                                          ['drama']                   []   \n",
      "\n",
      "      seasons     imdb_id  imdb_score  imdb_votes  duplicated?  \n",
      "657       1.0         NaN         NaN         NaN         True  \n",
      "519       NaN   tt0492472         8.7       312.0         True  \n",
      "54        NaN   tt0087800         7.4    230543.0         True  \n",
      "355       NaN   tt1179056         5.2     99192.0         True  \n",
      "1731      NaN   tt5226380         8.6        47.0         True  \n",
      "...       ...         ...         ...         ...          ...  \n",
      "38        NaN   tt0170803         7.8        75.0         True  \n",
      "2258      NaN   tt6527426         5.2     27208.0         True  \n",
      "5441      1.0  tt10619486         5.6      1270.0         True  \n",
      "1332      3.0   tt3250026         6.6     24479.0         True  \n",
      "2708      NaN   tt6149820         5.7        96.0         True  \n",
      "\n",
      "[106 rows x 14 columns]\n"
     ]
    }
   ],
   "source": [
    "df = raw_titles_df.copy()\n",
    "df['duplicated?'] = df['title'].duplicated(keep=False)\n",
    "duplicated_df = df[df['duplicated?']]\n",
    "print(duplicated_df.sort_values(by='title'))"
   ]
  },
  {
   "cell_type": "markdown",
   "metadata": {},
   "source": [
    "One row contain a Nan inside the title column, I'll remove it because it doesn't help to keep a movie where we don't know the title."
   ]
  },
  {
   "cell_type": "code",
   "execution_count": 118,
   "metadata": {},
   "outputs": [
    {
     "name": "stdout",
     "output_type": "stream",
     "text": [
      "5806\n",
      "5805\n"
     ]
    }
   ],
   "source": [
    "print(len(raw_titles_df))\n",
    "raw_titles_df = raw_titles_df.dropna(subset=['title'])\n",
    "print(len(raw_titles_df))"
   ]
  },
  {
   "cell_type": "markdown",
   "metadata": {},
   "source": [
    "We can see there are some duplicates inside the title column but they refer to different movies/shows."
   ]
  },
  {
   "cell_type": "code",
   "execution_count": 83,
   "metadata": {},
   "outputs": [
    {
     "name": "stdout",
     "output_type": "stream",
     "text": [
      "['SHOW' 'MOVIE']\n"
     ]
    }
   ],
   "source": [
    "print(raw_titles_df['type'].unique())"
   ]
  },
  {
   "cell_type": "markdown",
   "metadata": {},
   "source": [
    "The type column correctly contains only 'MOVIE' or 'SHOW'"
   ]
  },
  {
   "cell_type": "code",
   "execution_count": 84,
   "metadata": {},
   "outputs": [
    {
     "name": "stdout",
     "output_type": "stream",
     "text": [
      "0    1945\n",
      "1    1976\n",
      "2    1975\n",
      "3    1979\n",
      "4    1973\n",
      "5    1969\n",
      "6    1971\n",
      "7    1964\n",
      "8    1980\n",
      "9    1967\n",
      "Name: release_year, dtype: int64\n"
     ]
    }
   ],
   "source": [
    "print (raw_titles_df['release_year'].head(10))"
   ]
  },
  {
   "cell_type": "markdown",
   "metadata": {},
   "source": [
    "The 'release_year' data type is an integer but it will be converted to a date when importing the data to the RDBMS."
   ]
  },
  {
   "cell_type": "code",
   "execution_count": 85,
   "metadata": {},
   "outputs": [
    {
     "name": "stdout",
     "output_type": "stream",
     "text": [
      "['TV-MA' 'R' 'PG' 'TV-14' 'G' 'PG-13' nan 'TV-PG' 'TV-Y' 'TV-G' 'TV-Y7'\n",
      " 'NC-17']\n"
     ]
    }
   ],
   "source": [
    "print(raw_titles_df['age_certification'].unique())"
   ]
  },
  {
   "cell_type": "markdown",
   "metadata": {},
   "source": [
    "The 'age_certification' column contain a rating or NaN."
   ]
  },
  {
   "cell_type": "code",
   "execution_count": 86,
   "metadata": {},
   "outputs": [
    {
     "name": "stdout",
     "output_type": "stream",
     "text": [
      "0     48\n",
      "1    113\n",
      "2     91\n",
      "3     94\n",
      "4    133\n",
      "5     30\n",
      "6    102\n",
      "7    170\n",
      "8    104\n",
      "9    110\n",
      "Name: runtime, dtype: int64\n"
     ]
    }
   ],
   "source": [
    "print(raw_titles_df['runtime'].head(10))"
   ]
  },
  {
   "cell_type": "markdown",
   "metadata": {},
   "source": [
    "The 'runtime' column is already as in integer."
   ]
  },
  {
   "cell_type": "code",
   "execution_count": 87,
   "metadata": {},
   "outputs": [
    {
     "name": "stdout",
     "output_type": "stream",
     "text": [
      "0                          ['documentation']\n",
      "1                         ['crime', 'drama']\n",
      "2                      ['comedy', 'fantasy']\n",
      "3                                 ['comedy']\n",
      "4                                 ['horror']\n",
      "5                     ['comedy', 'european']\n",
      "6            ['thriller', 'crime', 'action']\n",
      "7    ['drama', 'music', 'romance', 'family']\n",
      "8                       ['romance', 'drama']\n",
      "9               ['drama', 'crime', 'action']\n",
      "Name: genres, dtype: object\n"
     ]
    }
   ],
   "source": [
    "print(raw_titles_df['genres'].head(10))"
   ]
  },
  {
   "cell_type": "markdown",
   "metadata": {},
   "source": [
    "The 'genres' column contains lists of values. To normalize the data we want to split the elements inside the list to the movies."
   ]
  },
  {
   "cell_type": "code",
   "execution_count": 88,
   "metadata": {},
   "outputs": [
    {
     "name": "stdout",
     "output_type": "stream",
     "text": [
      "         id         genres\n",
      "0  ts300399  documentation\n",
      "1   tm84618          crime\n",
      "1   tm84618          drama\n",
      "2  tm127384         comedy\n",
      "2  tm127384        fantasy\n",
      "3   tm70993         comedy\n",
      "4  tm190788         horror\n",
      "5   ts22164         comedy\n",
      "5   ts22164       european\n",
      "6   tm14873       thriller\n"
     ]
    }
   ],
   "source": [
    "genres_df = pd.DataFrame()\n",
    "raw_titles_df['genres'] = raw_titles_df['genres'].apply(literal_eval) # Transforming the list into a correct format.\n",
    "genres_df[['id','genres']] = raw_titles_df[['id','genres']].explode(column='genres')\n",
    "\n",
    "print(genres_df.head(10))\n",
    "raw_titles_df = raw_titles_df.drop(columns='genres') # Dropping the column because the data is in another dataframe.\n",
    "cleaned_df.append(genres_df)"
   ]
  },
  {
   "cell_type": "code",
   "execution_count": 89,
   "metadata": {},
   "outputs": [
    {
     "name": "stdout",
     "output_type": "stream",
     "text": [
      "0           ['US']\n",
      "1           ['US']\n",
      "2           ['GB']\n",
      "3           ['GB']\n",
      "4           ['US']\n",
      "5           ['GB']\n",
      "6           ['US']\n",
      "7           ['US']\n",
      "8           ['US']\n",
      "9           ['US']\n",
      "10          ['US']\n",
      "11    ['US', 'GB']\n",
      "12          ['JP']\n",
      "13          ['US']\n",
      "14          ['US']\n",
      "15          ['US']\n",
      "16          ['EG']\n",
      "17          ['US']\n",
      "18          ['DE']\n",
      "19          ['US']\n",
      "Name: production_countries, dtype: object\n"
     ]
    }
   ],
   "source": [
    "print (raw_titles_df['production_countries'].head(20))"
   ]
  },
  {
   "cell_type": "markdown",
   "metadata": {},
   "source": [
    "Similarly to the genre column, we want to split the lists inside the 'production_countries' columns."
   ]
  },
  {
   "cell_type": "code",
   "execution_count": 90,
   "metadata": {},
   "outputs": [
    {
     "name": "stdout",
     "output_type": "stream",
     "text": [
      "         id production_countries\n",
      "0  ts300399                   US\n",
      "1   tm84618                   US\n",
      "2  tm127384                   GB\n",
      "3   tm70993                   GB\n",
      "4  tm190788                   US\n",
      "5   ts22164                   GB\n",
      "6   tm14873                   US\n",
      "7  tm185072                   US\n",
      "8   tm98978                   US\n",
      "9  tm119281                   US\n"
     ]
    }
   ],
   "source": [
    "production_df = pd.DataFrame()\n",
    "raw_titles_df['production_countries'] = raw_titles_df['production_countries'].apply(literal_eval) # Transforming the list into a correct format.\n",
    "production_df[['id','production_countries']] = raw_titles_df[['id','production_countries']].explode(column='production_countries')\n",
    "\n",
    "cleaned_df.append(production_df)\n",
    "raw_titles_df = raw_titles_df.drop(columns='production_countries')\n",
    "print(production_df.head(10))"
   ]
  },
  {
   "cell_type": "code",
   "execution_count": 91,
   "metadata": {},
   "outputs": [
    {
     "name": "stdout",
     "output_type": "stream",
     "text": [
      "seasons\n",
      "1.0     1187\n",
      "2.0      374\n",
      "3.0      181\n",
      "4.0      116\n",
      "5.0       76\n",
      "6.0       40\n",
      "7.0       16\n",
      "8.0       14\n",
      "9.0        9\n",
      "11.0       7\n",
      "10.0       5\n",
      "15.0       4\n",
      "12.0       4\n",
      "24.0       3\n",
      "13.0       2\n",
      "14.0       2\n",
      "19.0       1\n",
      "18.0       1\n",
      "29.0       1\n",
      "21.0       1\n",
      "42.0       1\n",
      "39.0       1\n",
      "37.0       1\n",
      "Name: count, dtype: int64\n"
     ]
    }
   ],
   "source": [
    "print(raw_titles_df['seasons'].value_counts())"
   ]
  },
  {
   "cell_type": "markdown",
   "metadata": {},
   "source": [
    "The seasons column has either a NaN or the number of seasons for the show."
   ]
  },
  {
   "cell_type": "code",
   "execution_count": 92,
   "metadata": {},
   "outputs": [
    {
     "name": "stdout",
     "output_type": "stream",
     "text": [
      "False\n"
     ]
    }
   ],
   "source": [
    "print(raw_titles_df['imdb_id'].is_unique)"
   ]
  },
  {
   "cell_type": "code",
   "execution_count": 93,
   "metadata": {},
   "outputs": [
    {
     "name": "stdout",
     "output_type": "stream",
     "text": [
      "             id                                      title   type  \\\n",
      "0      ts300399        Five Came Back: The Reference Films   SHOW   \n",
      "32      tm97793                         Lock Your Girls In  MOVIE   \n",
      "33      tm85426        The Witness Who Didn't See Anything  MOVIE   \n",
      "34     tm188894                     The School of Mischief  MOVIE   \n",
      "91     tm126791                        The Married Couples  MOVIE   \n",
      "...         ...                                        ...    ...   \n",
      "5780  tm1074617              Bling Empire - The Afterparty  MOVIE   \n",
      "5783  tm1035612  Dad Stop Embarrassing Me - The Afterparty  MOVIE   \n",
      "5794   ts297061                            Masameer County   SHOW   \n",
      "5799   ts307884                                 HQ Barbers   SHOW   \n",
      "5802  tm1108171                             Edis Starlight  MOVIE   \n",
      "\n",
      "      release_year imdb_id  \n",
      "0             1945     NaN  \n",
      "32            1980     NaN  \n",
      "33            1976     NaN  \n",
      "34            1973     NaN  \n",
      "91            1981     NaN  \n",
      "...            ...     ...  \n",
      "5780          2021     NaN  \n",
      "5783          2021     NaN  \n",
      "5794          2021     NaN  \n",
      "5799          2021     NaN  \n",
      "5802          2021     NaN  \n",
      "\n",
      "[444 rows x 5 columns]\n"
     ]
    }
   ],
   "source": [
    "df = raw_titles_df.copy()\n",
    "df['duplicated?'] = df['imdb_id'].duplicated(keep=False)\n",
    "duplicated_df = df[df['duplicated?']]\n",
    "print(duplicated_df[['id','title','type','release_year','imdb_id']].sort_values(by='imdb_id'))"
   ]
  },
  {
   "cell_type": "markdown",
   "metadata": {},
   "source": [
    "The IMDB_id column contains duplicates but those are NaN."
   ]
  },
  {
   "cell_type": "code",
   "execution_count": 94,
   "metadata": {},
   "outputs": [
    {
     "name": "stdout",
     "output_type": "stream",
     "text": [
      "0    NaN\n",
      "1    8.3\n",
      "2    8.2\n",
      "3    8.0\n",
      "4    8.1\n",
      "5    8.8\n",
      "6    7.7\n",
      "7    7.8\n",
      "8    5.8\n",
      "9    7.7\n",
      "Name: imdb_score, dtype: float64\n",
      "0         NaN\n",
      "1    795222.0\n",
      "2    530877.0\n",
      "3    392419.0\n",
      "4    391942.0\n",
      "5     72895.0\n",
      "6    153463.0\n",
      "7     94121.0\n",
      "8     69053.0\n",
      "9    111189.0\n",
      "Name: imdb_votes, dtype: float64\n"
     ]
    }
   ],
   "source": [
    "print(raw_titles_df['imdb_score'].head(10))\n",
    "print(raw_titles_df['imdb_votes'].head(10))"
   ]
  },
  {
   "cell_type": "markdown",
   "metadata": {},
   "source": [
    "The IMDB_vote and IMDB_score columns are already in the correct format."
   ]
  },
  {
   "cell_type": "code",
   "execution_count": 95,
   "metadata": {},
   "outputs": [
    {
     "name": "stdout",
     "output_type": "stream",
     "text": [
      "         id                                title   type  release_year  \\\n",
      "0  ts300399  Five Came Back: The Reference Films   SHOW          1945   \n",
      "1   tm84618                          Taxi Driver  MOVIE          1976   \n",
      "2  tm127384      Monty Python and the Holy Grail  MOVIE          1975   \n",
      "3   tm70993                        Life of Brian  MOVIE          1979   \n",
      "4  tm190788                         The Exorcist  MOVIE          1973   \n",
      "5   ts22164         Monty Python's Flying Circus   SHOW          1969   \n",
      "6   tm14873                          Dirty Harry  MOVIE          1971   \n",
      "7  tm185072                         My Fair Lady  MOVIE          1964   \n",
      "8   tm98978                      The Blue Lagoon  MOVIE          1980   \n",
      "9  tm119281                     Bonnie and Clyde  MOVIE          1967   \n",
      "\n",
      "  age_certification  runtime  seasons    imdb_id  imdb_score  imdb_votes  \n",
      "0             TV-MA       48      1.0        NaN         NaN         NaN  \n",
      "1                 R      113      NaN  tt0075314         8.3    795222.0  \n",
      "2                PG       91      NaN  tt0071853         8.2    530877.0  \n",
      "3                 R       94      NaN  tt0079470         8.0    392419.0  \n",
      "4                 R      133      NaN  tt0070047         8.1    391942.0  \n",
      "5             TV-14       30      4.0  tt0063929         8.8     72895.0  \n",
      "6                 R      102      NaN  tt0066999         7.7    153463.0  \n",
      "7                 G      170      NaN  tt0058385         7.8     94121.0  \n",
      "8                 R      104      NaN  tt0080453         5.8     69053.0  \n",
      "9                 R      110      NaN  tt0061418         7.7    111189.0  \n"
     ]
    }
   ],
   "source": [
    "raw_titles_df = raw_titles_df.drop(columns='index')\n",
    "print(raw_titles_df.head(10))\n",
    "cleaned_df.append(raw_titles_df)"
   ]
  },
  {
   "cell_type": "markdown",
   "metadata": {},
   "source": [
    "Lastly, I drop the index column and add the raw_title df to the cleaned_df list."
   ]
  },
  {
   "cell_type": "markdown",
   "metadata": {},
   "source": [
    "## 2.2 Raw credits dataframe"
   ]
  },
  {
   "cell_type": "code",
   "execution_count": 96,
   "metadata": {},
   "outputs": [
    {
     "name": "stdout",
     "output_type": "stream",
     "text": [
      "   index  person_id       id             name                      character  \\\n",
      "0      0       3748  tm84618   Robert De Niro                  Travis Bickle   \n",
      "1      1      14658  tm84618     Jodie Foster                  Iris Steensma   \n",
      "2      2       7064  tm84618    Albert Brooks                            Tom   \n",
      "3      3       3739  tm84618    Harvey Keitel        Matthew 'Sport' Higgins   \n",
      "4      4      48933  tm84618  Cybill Shepherd                          Betsy   \n",
      "5      5      32267  tm84618      Peter Boyle                         Wizard   \n",
      "6      6     519612  tm84618   Leonard Harris      Senator Charles Palantine   \n",
      "7      7      29068  tm84618   Diahnne Abbott                Concession Girl   \n",
      "8      8     519613  tm84618      Gino Ardito             Policeman at Rally   \n",
      "9      9       3308  tm84618  Martin Scorsese  Passenger Watching Silhouette   \n",
      "\n",
      "    role  \n",
      "0  ACTOR  \n",
      "1  ACTOR  \n",
      "2  ACTOR  \n",
      "3  ACTOR  \n",
      "4  ACTOR  \n",
      "5  ACTOR  \n",
      "6  ACTOR  \n",
      "7  ACTOR  \n",
      "8  ACTOR  \n",
      "9  ACTOR  \n"
     ]
    }
   ],
   "source": [
    "print(raw_credits_df.head(10))"
   ]
  },
  {
   "cell_type": "markdown",
   "metadata": {},
   "source": [
    "The 'person_id' and 'id' columns refers to the id of the actor and the id of the movies. It's normal for those to have duplicates and they are in the correct format.\n",
    "The 'name' and 'character' columns are also correctly formated already."
   ]
  },
  {
   "cell_type": "code",
   "execution_count": 97,
   "metadata": {},
   "outputs": [
    {
     "name": "stdout",
     "output_type": "stream",
     "text": [
      "role\n",
      "ACTOR       72690\n",
      "DIRECTOR     4523\n",
      "Name: count, dtype: int64\n"
     ]
    }
   ],
   "source": [
    "print(raw_credits_df['role'].value_counts())"
   ]
  },
  {
   "cell_type": "markdown",
   "metadata": {},
   "source": [
    "The 'role' column contains either 'Actor' or 'Director' and doesn't have any incorrect data."
   ]
  },
  {
   "cell_type": "code",
   "execution_count": 98,
   "metadata": {},
   "outputs": [
    {
     "name": "stdout",
     "output_type": "stream",
     "text": [
      "   person_id       id             name                character   role\n",
      "0       3748  tm84618   Robert De Niro            Travis Bickle  ACTOR\n",
      "1      14658  tm84618     Jodie Foster            Iris Steensma  ACTOR\n",
      "2       7064  tm84618    Albert Brooks                      Tom  ACTOR\n",
      "3       3739  tm84618    Harvey Keitel  Matthew 'Sport' Higgins  ACTOR\n",
      "4      48933  tm84618  Cybill Shepherd                    Betsy  ACTOR\n"
     ]
    }
   ],
   "source": [
    "raw_credits_df = raw_credits_df.drop(columns='index')\n",
    "cleaned_df.append(raw_credits_df)\n",
    "print(raw_credits_df.head())"
   ]
  },
  {
   "cell_type": "markdown",
   "metadata": {},
   "source": [
    "I remove the index column and add it to the cleaned_df list."
   ]
  },
  {
   "cell_type": "markdown",
   "metadata": {},
   "source": [
    "## 2.3 Best movies dataframe"
   ]
  },
  {
   "cell_type": "code",
   "execution_count": 99,
   "metadata": {},
   "outputs": [
    {
     "name": "stdout",
     "output_type": "stream",
     "text": [
      "   index                                     TITLE  RELEASE_YEAR  SCORE  \\\n",
      "0      0  David Attenborough: A Life on Our Planet          2020    9.0   \n",
      "1      1                                 Inception          2010    8.8   \n",
      "2      2                              Forrest Gump          1994    8.8   \n",
      "3      3                                Anbe Sivam          2003    8.7   \n",
      "4      4                        Bo Burnham: Inside          2021    8.7   \n",
      "5      5                       Saving Private Ryan          1998    8.6   \n",
      "6      6                          Django Unchained          2012    8.4   \n",
      "7      7                                    Dangal          2016    8.4   \n",
      "8      8                    Bo Burnham: Make Happy          2016    8.4   \n",
      "9      9                     Louis C.K.: Hilarious          2010    8.4   \n",
      "\n",
      "   NUMBER_OF_VOTES  DURATION   MAIN_GENRE MAIN_PRODUCTION  \n",
      "0            31180        83  documentary              GB  \n",
      "1          2268288       148        scifi              GB  \n",
      "2          1994599       142        drama              US  \n",
      "3            20595       160       comedy              IN  \n",
      "4            44074        87       comedy              US  \n",
      "5          1346020       169        drama              US  \n",
      "6          1472668       165      western              US  \n",
      "7           180247       161       action              IN  \n",
      "8            14356        60       comedy              US  \n",
      "9            11973        84       comedy              US  \n"
     ]
    }
   ],
   "source": [
    "print(best_movies_df.head(10))"
   ]
  },
  {
   "cell_type": "code",
   "execution_count": 100,
   "metadata": {},
   "outputs": [
    {
     "name": "stdout",
     "output_type": "stream",
     "text": [
      "0    David Attenborough: A Life on Our Planet\n",
      "1                                   Inception\n",
      "2                                Forrest Gump\n",
      "3                                  Anbe Sivam\n",
      "4                          Bo Burnham: Inside\n",
      "Name: TITLE, dtype: object\n",
      "0    2020\n",
      "1    2010\n",
      "2    1994\n",
      "3    2003\n",
      "4    2021\n",
      "Name: RELEASE_YEAR, dtype: int64\n",
      "0    9.0\n",
      "1    8.8\n",
      "2    8.8\n",
      "3    8.7\n",
      "4    8.7\n",
      "Name: SCORE, dtype: float64\n",
      "0      31180\n",
      "1    2268288\n",
      "2    1994599\n",
      "3      20595\n",
      "4      44074\n",
      "Name: NUMBER_OF_VOTES, dtype: int64\n",
      "0     83\n",
      "1    148\n",
      "2    142\n",
      "3    160\n",
      "4     87\n",
      "Name: DURATION, dtype: int64\n"
     ]
    }
   ],
   "source": [
    "print(best_movies_df['TITLE'].head())\n",
    "print(best_movies_df['RELEASE_YEAR'].head())\n",
    "print(best_movies_df['SCORE'].head())\n",
    "print(best_movies_df['NUMBER_OF_VOTES'].head())\n",
    "print(best_movies_df['DURATION'].head())"
   ]
  },
  {
   "cell_type": "code",
   "execution_count": 101,
   "metadata": {},
   "outputs": [
    {
     "name": "stdout",
     "output_type": "stream",
     "text": [
      "True\n"
     ]
    }
   ],
   "source": [
    "print(best_movies_df['TITLE'].is_unique)"
   ]
  },
  {
   "cell_type": "markdown",
   "metadata": {},
   "source": [
    "Those 5 columns are already in the correct format and there are no duplicated titles."
   ]
  },
  {
   "cell_type": "code",
   "execution_count": 102,
   "metadata": {},
   "outputs": [
    {
     "name": "stdout",
     "output_type": "stream",
     "text": [
      "MAIN_GENRE\n",
      "drama          151\n",
      "thriller        59\n",
      "comedy          58\n",
      "crime           21\n",
      "romance         21\n",
      "documentary     20\n",
      "fantasy         19\n",
      "horror           8\n",
      "scifi            7\n",
      "western          7\n",
      "action           5\n",
      "musical          4\n",
      "war              3\n",
      "animation        3\n",
      "sports           1\n",
      "Name: count, dtype: int64\n",
      "MAIN_PRODUCTION\n",
      "US    157\n",
      "IN    115\n",
      "GB     29\n",
      "DE      9\n",
      "JP      9\n",
      "FR      7\n",
      "TR      7\n",
      "ES      6\n",
      "IT      4\n",
      "KR      4\n",
      "CA      4\n",
      "AU      3\n",
      "CN      3\n",
      "HK      2\n",
      "NL      2\n",
      "BE      2\n",
      "NO      2\n",
      "NZ      2\n",
      "IE      2\n",
      "HU      2\n",
      "UA      2\n",
      "KH      1\n",
      "DK      1\n",
      "LT      1\n",
      "XX      1\n",
      "BR      1\n",
      "MX      1\n",
      "PL      1\n",
      "PS      1\n",
      "AR      1\n",
      "TH      1\n",
      "MW      1\n",
      "ZA      1\n",
      "CD      1\n",
      "ID      1\n",
      "Name: count, dtype: int64\n"
     ]
    }
   ],
   "source": [
    "print(best_movies_df['MAIN_GENRE'].value_counts())\n",
    "print(best_movies_df['MAIN_PRODUCTION'].value_counts())"
   ]
  },
  {
   "cell_type": "markdown",
   "metadata": {},
   "source": [
    "The 'MAIN_GENRES' and 'MAIN_PRODUCTION' contains only one entry and are formated correctly."
   ]
  },
  {
   "cell_type": "code",
   "execution_count": 103,
   "metadata": {},
   "outputs": [
    {
     "name": "stdout",
     "output_type": "stream",
     "text": [
      "                                      TITLE  RELEASE_YEAR  SCORE  \\\n",
      "0  David Attenborough: A Life on Our Planet          2020    9.0   \n",
      "1                                 Inception          2010    8.8   \n",
      "2                              Forrest Gump          1994    8.8   \n",
      "3                                Anbe Sivam          2003    8.7   \n",
      "4                        Bo Burnham: Inside          2021    8.7   \n",
      "\n",
      "   NUMBER_OF_VOTES  DURATION   MAIN_GENRE MAIN_PRODUCTION  \n",
      "0            31180        83  documentary              GB  \n",
      "1          2268288       148        scifi              GB  \n",
      "2          1994599       142        drama              US  \n",
      "3            20595       160       comedy              IN  \n",
      "4            44074        87       comedy              US  \n"
     ]
    }
   ],
   "source": [
    "best_movies_df = best_movies_df.drop(columns='index')\n",
    "print(best_movies_df.head())"
   ]
  },
  {
   "cell_type": "markdown",
   "metadata": {},
   "source": [
    "We can remove the index column."
   ]
  },
  {
   "cell_type": "markdown",
   "metadata": {},
   "source": [
    "We want to add an ID column that link the movies to their id from the 'raw_titles' dataframe."
   ]
  },
  {
   "cell_type": "code",
   "execution_count": 104,
   "metadata": {},
   "outputs": [
    {
     "name": "stdout",
     "output_type": "stream",
     "text": [
      "          id                                     TITLE  RELEASE_YEAR  SCORE  \\\n",
      "0   tm853783  David Attenborough: A Life on Our Planet          2020    9.0   \n",
      "1    tm92641                                 Inception          2010    8.8   \n",
      "2   tm122434                              Forrest Gump          1994    8.8   \n",
      "3   tm129763                                Anbe Sivam          2003    8.7   \n",
      "4  tm1038686                        Bo Burnham: Inside          2021    8.7   \n",
      "\n",
      "   NUMBER_OF_VOTES  DURATION   MAIN_GENRE MAIN_PRODUCTION  \n",
      "0            31180        83  documentary              GB  \n",
      "1          2268288       148        scifi              GB  \n",
      "2          1994599       142        drama              US  \n",
      "3            20595       160       comedy              IN  \n",
      "4            44074        87       comedy              US  \n"
     ]
    }
   ],
   "source": [
    "best_movies_df = best_movies_df.merge(raw_titles_df, left_on='TITLE', right_on='title', how='left')[['id','TITLE','RELEASE_YEAR','SCORE','NUMBER_OF_VOTES','DURATION','MAIN_GENRE','MAIN_PRODUCTION']]\n",
    "print(best_movies_df.head())"
   ]
  },
  {
   "cell_type": "code",
   "execution_count": 105,
   "metadata": {},
   "outputs": [],
   "source": [
    "cleaned_df.append(best_movies_df)"
   ]
  },
  {
   "cell_type": "markdown",
   "metadata": {},
   "source": [
    "## 2.4 Best movies by years dataframe"
   ]
  },
  {
   "cell_type": "code",
   "execution_count": 106,
   "metadata": {},
   "outputs": [
    {
     "name": "stdout",
     "output_type": "stream",
     "text": [
      "   index                 TITLE  RELEASE_YEAR  SCORE MAIN_GENRE MAIN_PRODUCTION\n",
      "0      0       White Christmas          1954    7.5    romance              US\n",
      "1      1  The Guns of Navarone          1961    7.5        war              US\n",
      "2      2          My Fair Lady          1964    7.8      drama              US\n",
      "3      3      Bonnie and Clyde          1967    7.7      drama              US\n",
      "4      4           Dirty Harry          1971    7.7   thriller              US\n"
     ]
    }
   ],
   "source": [
    "print(best_movie_years_df.head())"
   ]
  },
  {
   "cell_type": "code",
   "execution_count": 107,
   "metadata": {},
   "outputs": [
    {
     "name": "stdout",
     "output_type": "stream",
     "text": [
      "True\n"
     ]
    }
   ],
   "source": [
    "print(best_movie_years_df['TITLE'].is_unique)"
   ]
  },
  {
   "cell_type": "markdown",
   "metadata": {},
   "source": [
    "Like the previous dataframe, the data is already correctly formated.\n",
    "We just need to remove the index column and add the id column."
   ]
  },
  {
   "cell_type": "code",
   "execution_count": 108,
   "metadata": {},
   "outputs": [
    {
     "name": "stdout",
     "output_type": "stream",
     "text": [
      "          id                                     TITLE  RELEASE_YEAR  SCORE  \\\n",
      "0   tm853783  David Attenborough: A Life on Our Planet          2020    9.0   \n",
      "1    tm92641                                 Inception          2010    8.8   \n",
      "2   tm122434                              Forrest Gump          1994    8.8   \n",
      "3   tm129763                                Anbe Sivam          2003    8.7   \n",
      "4  tm1038686                        Bo Burnham: Inside          2021    8.7   \n",
      "\n",
      "   NUMBER_OF_VOTES  DURATION   MAIN_GENRE MAIN_PRODUCTION  \n",
      "0            31180        83  documentary              GB  \n",
      "1          2268288       148        scifi              GB  \n",
      "2          1994599       142        drama              US  \n",
      "3            20595       160       comedy              IN  \n",
      "4            44074        87       comedy              US  \n"
     ]
    }
   ],
   "source": [
    "best_movie_years_df = best_movie_years_df.merge(raw_titles_df, left_on='TITLE', right_on='title', how='left')[['id','TITLE','RELEASE_YEAR','SCORE','MAIN_GENRE','MAIN_PRODUCTION']]\n",
    "print(best_movies_df.head())"
   ]
  },
  {
   "cell_type": "code",
   "execution_count": 109,
   "metadata": {},
   "outputs": [],
   "source": [
    "cleaned_df.append(best_movie_years_df)"
   ]
  },
  {
   "cell_type": "markdown",
   "metadata": {},
   "source": [
    "## 2.5 Best show dataframe"
   ]
  },
  {
   "cell_type": "code",
   "execution_count": 110,
   "metadata": {},
   "outputs": [
    {
     "name": "stdout",
     "output_type": "stream",
     "text": [
      "   index                       TITLE  RELEASE_YEAR  SCORE  NUMBER_OF_VOTES  \\\n",
      "0      0                Breaking Bad          2008    9.5          1727694   \n",
      "1      1  Avatar: The Last Airbender          2005    9.3           297336   \n",
      "2      2                  Our Planet          2019    9.3            41386   \n",
      "3      3                Kota Factory          2019    9.3            66985   \n",
      "4      4              The Last Dance          2020    9.1           108321   \n",
      "5      5                      Arcane          2021    9.1           175412   \n",
      "6      6             Attack on Titan          2013    9.0           325381   \n",
      "7      7             Hunter x Hunter          2011    9.0            87857   \n",
      "8      8                  DEATH NOTE          2006    9.0           302147   \n",
      "9      9                    Seinfeld          1989    8.9           302700   \n",
      "\n",
      "   DURATION  NUMBER_OF_SEASONS   MAIN_GENRE MAIN_PRODUCTION  \n",
      "0        48                  5        drama              US  \n",
      "1        24                  3        scifi              US  \n",
      "2        50                  1  documentary              GB  \n",
      "3        42                  2        drama              IN  \n",
      "4        50                  1  documentary              US  \n",
      "5        41                  1       action              US  \n",
      "6        24                  4        scifi              JP  \n",
      "7        23                  3        drama              JP  \n",
      "8        24                  1        scifi              JP  \n",
      "9        24                  9       comedy              US  \n"
     ]
    }
   ],
   "source": [
    "print(best_shows_df.head(10))"
   ]
  },
  {
   "cell_type": "code",
   "execution_count": 111,
   "metadata": {},
   "outputs": [
    {
     "name": "stdout",
     "output_type": "stream",
     "text": [
      "True\n"
     ]
    }
   ],
   "source": [
    "print(best_shows_df['TITLE'].is_unique)"
   ]
  },
  {
   "cell_type": "markdown",
   "metadata": {},
   "source": [
    "The data follows a similar structure than the best movies dataframe.\n",
    "The columns are formated correctly and I'll just replace the index column by the column."
   ]
  },
  {
   "cell_type": "code",
   "execution_count": 112,
   "metadata": {},
   "outputs": [
    {
     "name": "stdout",
     "output_type": "stream",
     "text": [
      "        id                       TITLE  RELEASE_YEAR  SCORE  NUMBER_OF_VOTES  \\\n",
      "0      ts4                Breaking Bad          2008    9.5          1727694   \n",
      "1   ts3371  Avatar: The Last Airbender          2005    9.3           297336   \n",
      "2  ts85398                  Our Planet          2019    9.3            41386   \n",
      "3  ts90621                Kota Factory          2019    9.3            66985   \n",
      "4  ts81120              The Last Dance          2020    9.1           108321   \n",
      "\n",
      "   DURATION  NUMBER_OF_SEASONS   MAIN_GENRE MAIN_PRODUCTION  \n",
      "0        48                  5        drama              US  \n",
      "1        24                  3        scifi              US  \n",
      "2        50                  1  documentary              GB  \n",
      "3        42                  2        drama              IN  \n",
      "4        50                  1  documentary              US  \n"
     ]
    }
   ],
   "source": [
    "best_shows_df = best_shows_df.merge(raw_titles_df, left_on='TITLE', right_on='title', how='left')[['id','TITLE','RELEASE_YEAR','SCORE','NUMBER_OF_VOTES','DURATION','NUMBER_OF_SEASONS','MAIN_GENRE','MAIN_PRODUCTION']]\n",
    "print(best_shows_df.head())"
   ]
  },
  {
   "cell_type": "code",
   "execution_count": 113,
   "metadata": {},
   "outputs": [],
   "source": [
    "cleaned_df.append(best_shows_df)"
   ]
  },
  {
   "cell_type": "markdown",
   "metadata": {},
   "source": [
    "## 2.6 Best shows by years dataframe"
   ]
  },
  {
   "cell_type": "code",
   "execution_count": 114,
   "metadata": {},
   "outputs": [
    {
     "name": "stdout",
     "output_type": "stream",
     "text": [
      "   index                         TITLE  RELEASE_YEAR  SCORE  \\\n",
      "0      0  Monty Python's Flying Circus          1969    8.8   \n",
      "1      1                  Knight Rider          1982    6.9   \n",
      "2      2                      Seinfeld          1989    8.9   \n",
      "3      3    Star Trek: Deep Space Nine          1993    8.1   \n",
      "4      4       Neon Genesis Evangelion          1995    8.5   \n",
      "5      5                 Stargate SG-1          1997    8.4   \n",
      "6      6                  Cowboy Bebop          1998    8.9   \n",
      "7      7                     One Piece          1999    8.8   \n",
      "8      8                 Gilmore Girls          2000    8.2   \n",
      "9      9             Trailer Park Boys          2001    8.6   \n",
      "\n",
      "   NUMBER_OF_SEASONS MAIN_GENRE MAIN_PRODUCTION  \n",
      "0                  4     comedy              GB  \n",
      "1                  4     action              US  \n",
      "2                  9     comedy              US  \n",
      "3                  7      scifi              US  \n",
      "4                  1      scifi              JP  \n",
      "5                 10      scifi              US  \n",
      "6                  1    western              JP  \n",
      "7                 21     action              JP  \n",
      "8                  8     comedy              US  \n",
      "9                 12     comedy              CA  \n"
     ]
    }
   ],
   "source": [
    "print(best_show_years_df.head(10))"
   ]
  },
  {
   "cell_type": "markdown",
   "metadata": {},
   "source": [
    "The data follows a similar structure than the best movies by years dataframe.\n",
    "The columns are formated correctly and I'll just replace the index column by the column."
   ]
  },
  {
   "cell_type": "code",
   "execution_count": 116,
   "metadata": {},
   "outputs": [
    {
     "name": "stdout",
     "output_type": "stream",
     "text": [
      "        id                         TITLE  RELEASE_YEAR  SCORE  \\\n",
      "0  ts22164  Monty Python's Flying Circus          1969    8.8   \n",
      "1  ts22082                  Knight Rider          1982    6.9   \n",
      "2  ts20681                      Seinfeld          1989    8.9   \n",
      "3  ts20927    Star Trek: Deep Space Nine          1993    8.1   \n",
      "4  ts20983       Neon Genesis Evangelion          1995    8.5   \n",
      "\n",
      "   NUMBER_OF_SEASONS MAIN_GENRE MAIN_PRODUCTION  \n",
      "0                  4     comedy              GB  \n",
      "1                  4     action              US  \n",
      "2                  9     comedy              US  \n",
      "3                  7      scifi              US  \n",
      "4                  1      scifi              JP  \n"
     ]
    }
   ],
   "source": [
    "best_show_years_df = best_show_years_df.merge(raw_titles_df, left_on='TITLE', right_on='title', how='left')[['id','TITLE','RELEASE_YEAR','SCORE','NUMBER_OF_SEASONS','MAIN_GENRE','MAIN_PRODUCTION']]\n",
    "print(best_show_years_df.head())"
   ]
  },
  {
   "cell_type": "code",
   "execution_count": 117,
   "metadata": {},
   "outputs": [],
   "source": [
    "cleaned_df.append(best_show_years_df)"
   ]
  }
 ],
 "metadata": {
  "kernelspec": {
   "display_name": "base",
   "language": "python",
   "name": "python3"
  },
  "language_info": {
   "codemirror_mode": {
    "name": "ipython",
    "version": 3
   },
   "file_extension": ".py",
   "mimetype": "text/x-python",
   "name": "python",
   "nbconvert_exporter": "python",
   "pygments_lexer": "ipython3",
   "version": "3.11.5"
  }
 },
 "nbformat": 4,
 "nbformat_minor": 2
}
